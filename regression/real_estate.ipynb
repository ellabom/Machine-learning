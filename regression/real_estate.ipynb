{
 "cells": [
  {
   "cell_type": "markdown",
   "metadata": {},
   "source": [
    "## Import Libraries"
   ]
  },
  {
   "cell_type": "code",
   "execution_count": 1,
   "metadata": {},
   "outputs": [],
   "source": [
    "import numpy as np\n",
    "import matplotlib.pyplot as plt\n",
    "import pandas as pd\n",
    "from sklearn.preprocessing import OneHotEncoder, StandardScaler\n",
    "from sklearn.linear_model import LinearRegression\n",
    "from sklearn.svm import SVR\n",
    "from sklearn.model_selection import train_test_split"
   ]
  },
  {
   "cell_type": "markdown",
   "metadata": {},
   "source": [
    "## Read the dataset"
   ]
  },
  {
   "cell_type": "code",
   "execution_count": 3,
   "metadata": {},
   "outputs": [],
   "source": [
    "dataset = pd.read_csv(\"../data/Real_Estate.csv\")\n",
    "X = dataset.iloc[:, :-1].values\n",
    "y = dataset.iloc[:, -1].values"
   ]
  },
  {
   "cell_type": "code",
   "execution_count": 4,
   "metadata": {},
   "outputs": [
    {
     "name": "stdout",
     "output_type": "stream",
     "text": [
      "[['2012-09-02 16:42:30.519336' 13.3 4082.015 8 25.0070586835347\n",
      "  121.561694217708]\n",
      " ['2012-09-04 22:52:29.919544' 35.5 274.0144 2 25.0121482576502\n",
      "  121.546989844571]\n",
      " ['2012-09-05 01:10:52.349449' 1.1 1978.671 10 25.0038498628365\n",
      "  121.528336472882]\n",
      " ...\n",
      " ['2013-07-28 21:47:23.339050' 0.0 451.6419 8 24.9639011877274\n",
      "  121.543387393163]\n",
      " ['2013-07-29 13:33:29.405317' 35.9 292.9978 5 24.9978626071598\n",
      "  121.558285927155]\n",
      " ['2013-08-01 09:49:41.506402' 12.0 90.45606 6 24.952904088349\n",
      "  121.526395420643]]\n"
     ]
    }
   ],
   "source": [
    "print(X)"
   ]
  }
 ],
 "metadata": {
  "kernelspec": {
   "display_name": "Python 3",
   "language": "python",
   "name": "python3"
  },
  "language_info": {
   "codemirror_mode": {
    "name": "ipython",
    "version": 3
   },
   "file_extension": ".py",
   "mimetype": "text/x-python",
   "name": "python",
   "nbconvert_exporter": "python",
   "pygments_lexer": "ipython3",
   "version": "3.12.4"
  }
 },
 "nbformat": 4,
 "nbformat_minor": 2
}
